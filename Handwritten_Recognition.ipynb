{
  "nbformat": 4,
  "nbformat_minor": 0,
  "metadata": {
    "colab": {
      "provenance": [],
      "authorship_tag": "ABX9TyMiutTAklu6Nqn7nbBI+Cvj",
      "include_colab_link": true
    },
    "kernelspec": {
      "name": "python3",
      "display_name": "Python 3"
    },
    "language_info": {
      "name": "python"
    }
  },
  "cells": [
    {
      "cell_type": "markdown",
      "metadata": {
        "id": "view-in-github",
        "colab_type": "text"
      },
      "source": [
        "<a href=\"https://colab.research.google.com/github/pratik-chakraborty10/ML_Projects/blob/main/Handwritten_Recognition.ipynb\" target=\"_parent\"><img src=\"https://colab.research.google.com/assets/colab-badge.svg\" alt=\"Open In Colab\"/></a>"
      ]
    },
    {
      "cell_type": "code",
      "source": [
        "import tensorflow\n",
        "from tensorflow import keras\n",
        "from tensorflow.keras import Sequential\n",
        "from tensorflow.keras.layers import Dense,Flatten"
      ],
      "metadata": {
        "id": "I05e5YqS7cwP"
      },
      "execution_count": 81,
      "outputs": []
    },
    {
      "cell_type": "code",
      "source": [
        "from sklearn.datasets import fetch_openml\n",
        "mnist=fetch_openml('mnist_784')"
      ],
      "metadata": {
        "colab": {
          "base_uri": "https://localhost:8080/"
        },
        "id": "aDCkvn_z73-N",
        "outputId": "69f9031b-b010-487b-8905-cad2ba9fc390"
      },
      "execution_count": 82,
      "outputs": [
        {
          "output_type": "stream",
          "name": "stderr",
          "text": [
            "/usr/local/lib/python3.10/dist-packages/sklearn/datasets/_openml.py:968: FutureWarning: The default value of `parser` will change from `'liac-arff'` to `'auto'` in 1.4. You can set `parser='auto'` to silence this warning. Therefore, an `ImportError` will be raised from 1.4 if the dataset is dense and pandas is not installed. Note that the pandas parser may return different data types. See the Notes Section in fetch_openml's API doc for details.\n",
            "  warn(\n"
          ]
        }
      ]
    },
    {
      "cell_type": "code",
      "source": [
        "X,y=mnist['data'],mnist['target']"
      ],
      "metadata": {
        "id": "wtNsMNsNIGle"
      },
      "execution_count": 83,
      "outputs": []
    },
    {
      "cell_type": "code",
      "source": [
        "demo_digit = X.iloc[1871].values\n",
        "\n",
        "demo_digit=demo_digit.reshape(28,28)\n",
        "plt.imshow(demo_digit,cmap=matplotlib.cm.binary,interpolation='nearest')"
      ],
      "metadata": {
        "colab": {
          "base_uri": "https://localhost:8080/",
          "height": 448
        },
        "id": "XefJLjcC9GOQ",
        "outputId": "eb3925d8-ef1a-43d2-ab93-042c38fa5652"
      },
      "execution_count": 84,
      "outputs": [
        {
          "output_type": "execute_result",
          "data": {
            "text/plain": [
              "<matplotlib.image.AxesImage at 0x7aa008a25690>"
            ]
          },
          "metadata": {},
          "execution_count": 84
        },
        {
          "output_type": "display_data",
          "data": {
            "text/plain": [
              "<Figure size 640x480 with 1 Axes>"
            ],
            "image/png": "[encoded data removed]"
          },
          "metadata": {}
        }
      ]
    },
    {
      "cell_type": "code",
      "source": [
        "from sklearn.model_selection import train_test_split\n",
        "X_train,X_test,y_train,y_test=train_test_split(X,y,test_size=0.20,random_state=0)"
      ],
      "metadata": {
        "id": "jyRvdoNV_Gy2"
      },
      "execution_count": 85,
      "outputs": []
    },
    {
      "cell_type": "code",
      "source": [
        "cnn=tf.keras.models.Sequential()"
      ],
      "metadata": {
        "id": "7euV4AcK_n6b"
      },
      "execution_count": 86,
      "outputs": []
    },
    {
      "cell_type": "code",
      "source": [
        "cnn.add(tf.keras.layers.Dense(64,activation='relu',input_dim=784))\n",
        "cnn.add(tf.keras.layers.Dense(64,activation='relu'))\n",
        "cnn.add(tf.keras.layers.Dense(10,activation='softmax'))\n"
      ],
      "metadata": {
        "id": "eqgmF28W_z_H"
      },
      "execution_count": 87,
      "outputs": []
    },
    {
      "cell_type": "code",
      "source": [
        "cnn.compile(optimizer='adam',loss='categorical_crossentropy',metrics=['accuracy'])"
      ],
      "metadata": {
        "id": "goN5U9PAAb8Q"
      },
      "execution_count": 88,
      "outputs": []
    },
    {
      "cell_type": "code",
      "source": [
        "cnn.summary()"
      ],
      "metadata": {
        "colab": {
          "base_uri": "https://localhost:8080/"
        },
        "id": "KOKfLb8sBnER",
        "outputId": "99704224-19f1-4d70-979f-e7ef766a4300"
      },
      "execution_count": 89,
      "outputs": [
        {
          "output_type": "stream",
          "name": "stdout",
          "text": [
            "Model: \"sequential_1\"\n",
            "_________________________________________________________________\n",
            " Layer (type)                Output Shape              Param #   \n",
            "=================================================================\n",
            " dense_3 (Dense)             (None, 64)                50240     \n",
            "                                                                 \n",
            " dense_4 (Dense)             (None, 64)                4160      \n",
            "                                                                 \n",
            " dense_5 (Dense)             (None, 10)                650       \n",
            "                                                                 \n",
            "=================================================================\n",
            "Total params: 55050 (215.04 KB)\n",
            "Trainable params: 55050 (215.04 KB)\n",
            "Non-trainable params: 0 (0.00 Byte)\n",
            "_________________________________________________________________\n"
          ]
        }
      ]
    },
    {
      "cell_type": "code",
      "source": [
        "cnn.fit(X_train,tku.to_categorical(y_train),epochs=10,batch_size=32)"
      ],
      "metadata": {
        "colab": {
          "base_uri": "https://localhost:8080/"
        },
        "id": "TIC-gRrVAuHW",
        "outputId": "eccd68a0-fed6-4460-f1be-18303b048694"
      },
      "execution_count": 98,
      "outputs": [
        {
          "output_type": "stream",
          "name": "stdout",
          "text": [
            "Epoch 1/10\n",
            "1750/1750 [==============================] - 6s 3ms/step - loss: 0.1332 - accuracy: 0.9623\n",
            "Epoch 2/10\n",
            "1750/1750 [==============================] - 8s 5ms/step - loss: 0.1266 - accuracy: 0.9643\n",
            "Epoch 3/10\n",
            "1750/1750 [==============================] - 6s 3ms/step - loss: 0.1195 - accuracy: 0.9660\n",
            "Epoch 4/10\n",
            "1750/1750 [==============================] - 7s 4ms/step - loss: 0.1151 - accuracy: 0.9666\n",
            "Epoch 5/10\n",
            "1750/1750 [==============================] - 6s 4ms/step - loss: 0.1106 - accuracy: 0.9687\n",
            "Epoch 6/10\n",
            "1750/1750 [==============================] - 8s 5ms/step - loss: 0.1043 - accuracy: 0.9708\n",
            "Epoch 7/10\n",
            "1750/1750 [==============================] - 7s 4ms/step - loss: 0.1034 - accuracy: 0.9712\n",
            "Epoch 8/10\n",
            "1750/1750 [==============================] - 7s 4ms/step - loss: 0.0996 - accuracy: 0.9722\n",
            "Epoch 9/10\n",
            "1750/1750 [==============================] - 6s 4ms/step - loss: 0.0970 - accuracy: 0.9714\n",
            "Epoch 10/10\n",
            "1750/1750 [==============================] - 6s 4ms/step - loss: 0.0942 - accuracy: 0.9736\n"
          ]
        },
        {
          "output_type": "execute_result",
          "data": {
            "text/plain": [
              "<keras.src.callbacks.History at 0x7a9fc9985ff0>"
            ]
          },
          "metadata": {},
          "execution_count": 98
        }
      ]
    },
    {
      "cell_type": "code",
      "source": [
        "cnn.evaluate(X_test,tku.to_categorical(y_test))"
      ],
      "metadata": {
        "colab": {
          "base_uri": "https://localhost:8080/"
        },
        "id": "AMALbOjYDQnW",
        "outputId": "e45e456e-cd93-43ca-f402-55a936098c40"
      },
      "execution_count": 99,
      "outputs": [
        {
          "output_type": "stream",
          "name": "stdout",
          "text": [
            "438/438 [==============================] - 1s 2ms/step - loss: 0.1988 - accuracy: 0.9545\n"
          ]
        },
        {
          "output_type": "execute_result",
          "data": {
            "text/plain": [
              "[0.19882912933826447, 0.9545000195503235]"
            ]
          },
          "metadata": {},
          "execution_count": 99
        }
      ]
    },
    {
      "cell_type": "code",
      "source": [
        "test_image=X.iloc[1871].values"
      ],
      "metadata": {
        "id": "td03xNvNFM7X"
      },
      "execution_count": 100,
      "outputs": []
    },
    {
      "cell_type": "code",
      "source": [
        "test_image=np.expand_dims(test_image,axis=0)\n",
        "result=cnn.predict(test_image)\n",
        "print(result) #1.0000000e+00->100% accuracy of its being 7"
      ],
      "metadata": {
        "colab": {
          "base_uri": "https://localhost:8080/"
        },
        "id": "k53r4fw9JSux",
        "outputId": "8b194b72-d9c3-44d1-c318-3979ea00b814"
      },
      "execution_count": 101,
      "outputs": [
        {
          "output_type": "stream",
          "name": "stdout",
          "text": [
            "1/1 [==============================] - 0s 27ms/step\n",
            "[[1.4487087e-18 4.4715895e-18 6.7284214e-17 2.7360750e-20 2.6951149e-13\n",
            "  1.0983219e-13 2.0997150e-31 1.0000000e+00 6.7102955e-33 2.6506051e-09]]\n"
          ]
        }
      ]
    }
  ]
}